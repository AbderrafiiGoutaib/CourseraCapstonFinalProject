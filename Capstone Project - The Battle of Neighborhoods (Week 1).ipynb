{
 "cells": [
  {
   "cell_type": "markdown",
   "metadata": {},
   "source": [
    "<h1>Introduction/Business Problem</h1>"
   ]
  },
  {
   "cell_type": "markdown",
   "metadata": {},
   "source": [
    "The objective of this capstone project is to help the travelers of Tokyo city to choose the best restaurant that fits their needs since Tokyo is well-known as the restaurant capital of the world with over 160,000 places , using data science methodology and machine learning techniques especially clustering, this project aims to provide solutions for this problem"
   ]
  },
  {
   "cell_type": "markdown",
   "metadata": {},
   "source": [
    "Foursquare’s slogan is “Foursquare helps you find the places you’ll love, anywhere in the world”. Since the launch of the Foursquare mobile app in 2009, Foursquare has helped 60 million users discover new exciting places worldwide [1]. The app provides personalized recommendations of places to visit in the vicinity of a user’s current location based on “previous browsing history, purchases, or check-in history”. [2] As a result, the Foursquare app has gained popularity for helping users to discover brand new places that match their interests. \n",
    "Using Foursquare API will help us collect the data that we need to resolve our Business Problem"
   ]
  },
  {
   "cell_type": "markdown",
   "metadata": {},
   "source": [
    "<h1>Data section</h1>"
   ]
  },
  {
   "cell_type": "markdown",
   "metadata": {},
   "source": [
    "For this project we need following data:<br>\n",
    "Tokyo data that contains list districts (Wards) along with their latitude and longitude.<br>\n",
    "We will Scrap Tokyo districts (Wards) Table from Wikipedia and get the coordinates of these 23 major districts using geocoder class of Geopy client.<br>\n",
    "Restaurants in each neighborhood of Tokyo:<br>\n",
    "Datasource : https://en.wikipedia.org/wiki/Special_wards_of_Tokyo#List_of_special_wards<br>\n",
    "Description : By using this API we will get all the venues in each neighborhood. We can filter these venues to get only restaurants."
   ]
  },
  {
   "cell_type": "code",
   "execution_count": null,
   "metadata": {},
   "outputs": [],
   "source": []
  }
 ],
 "metadata": {
  "kernelspec": {
   "display_name": "Python 3",
   "language": "python",
   "name": "python3"
  },
  "language_info": {
   "codemirror_mode": {
    "name": "ipython",
    "version": 3
   },
   "file_extension": ".py",
   "mimetype": "text/x-python",
   "name": "python",
   "nbconvert_exporter": "python",
   "pygments_lexer": "ipython3",
   "version": "3.7.6"
  }
 },
 "nbformat": 4,
 "nbformat_minor": 4
}
